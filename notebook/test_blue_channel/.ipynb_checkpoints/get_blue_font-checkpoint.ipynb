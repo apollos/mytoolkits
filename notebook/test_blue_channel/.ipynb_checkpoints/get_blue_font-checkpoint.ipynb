{
 "cells": [
  {
   "cell_type": "code",
   "execution_count": 15,
   "metadata": {},
   "outputs": [
    {
     "name": "stdout",
     "output_type": "stream",
     "text": [
      "None\n"
     ]
    }
   ],
   "source": [
    "import cv2\n",
    "#from sklearn.cluster import KMeans\n",
    "import numpy as np\n",
    "from matplotlib import pyplot as plt\n",
    "import os\n",
    "\n",
    "img_path = 'image/qrcode/ZP0686-69b2d3d96e9533c2756dfb59b982bf09_qrcode.jpg'\n",
    "img = cv2.imread(img_path,cv2.IMREAD_COLOR)\n",
    "print(img)\n",
    "#img = cv2.imread('image/tetris_blocks.png',cv2.IMREAD_COLOR)\n",
    "\n",
    "#print(img[0:3])"
   ]
  },
  {
   "cell_type": "code",
   "execution_count": 10,
   "metadata": {},
   "outputs": [
    {
     "data": {
      "text/plain": [
       "\"\\nmodel = KMeans(n_clusters=5, init=init_center, \\n               n_init=10, \\n               max_iter=3000,\\n               tol=0.0001, \\n               precompute_distances='auto', random_state=None, \\n               copy_x=True, n_jobs=10, algorithm='auto')\\ntest_X = np.array(img).reshape(-1,3)\\nprint(test_X[0:3])\\nmodel.fit(test_X)\\n\""
      ]
     },
     "execution_count": 10,
     "metadata": {},
     "output_type": "execute_result"
    }
   ],
   "source": [
    "#init_center = np.array([[60, 60, 60], [54, 37, 212], [49,77,108], [230,225,227], [217,117,75]], dtype=float)\n",
    "criteria = (cv2.TERM_CRITERIA_EPS + cv2.TERM_CRITERIA_MAX_ITER, 100, 1.0)\n",
    "flags = cv2.KMEANS_RANDOM_CENTERS\n",
    "K= 2 #np.shape(init_center)[0]\n",
    "Z = img.reshape((-1,3))\n",
    "# convert to np.float32\n",
    "Z = np.float32(Z)\n",
    "ret,label,center=cv2.kmeans(Z,K,None,criteria,10,cv2.KMEANS_PP_CENTERS)\n",
    "# Now convert back into uint8, and make original image\n",
    "center = np.uint8(center)\n",
    "res = center[label.flatten()]\n",
    "res2 = res.reshape((img.shape))\n",
    "\n",
    "cv2.imwrite(\"image/{}_out.jpg\".format(os.path.splitext(os.path.basename(img_path))[0]), res2)\n",
    "\n",
    "\n",
    "'''\n",
    "model = KMeans(n_clusters=5, init=init_center, \n",
    "               n_init=10, \n",
    "               max_iter=3000,\n",
    "               tol=0.0001, \n",
    "               precompute_distances='auto', random_state=None, \n",
    "               copy_x=True, n_jobs=10, algorithm='auto')\n",
    "test_X = np.array(img).reshape(-1,3)\n",
    "print(test_X[0:3])\n",
    "model.fit(test_X)\n",
    "'''"
   ]
  },
  {
   "cell_type": "code",
   "execution_count": 11,
   "metadata": {},
   "outputs": [
    {
     "name": "stdout",
     "output_type": "stream",
     "text": [
      "[[0]\n",
      " [0]\n",
      " [0]\n",
      " ...\n",
      " [0]\n",
      " [0]\n",
      " [0]]\n"
     ]
    }
   ],
   "source": [
    "print(label)"
   ]
  },
  {
   "cell_type": "code",
   "execution_count": 12,
   "metadata": {},
   "outputs": [
    {
     "name": "stdout",
     "output_type": "stream",
     "text": [
      "[[230 208 199]\n",
      " [202 127  97]]\n"
     ]
    }
   ],
   "source": [
    "print(center)"
   ]
  },
  {
   "cell_type": "code",
   "execution_count": 6,
   "metadata": {},
   "outputs": [
    {
     "name": "stdout",
     "output_type": "stream",
     "text": [
      "5\n"
     ]
    }
   ],
   "source": [
    "print(K)"
   ]
  },
  {
   "cell_type": "code",
   "execution_count": null,
   "metadata": {},
   "outputs": [],
   "source": []
  }
 ],
 "metadata": {
  "kernelspec": {
   "display_name": "Python 3",
   "language": "python",
   "name": "python3"
  },
  "language_info": {
   "codemirror_mode": {
    "name": "ipython",
    "version": 3
   },
   "file_extension": ".py",
   "mimetype": "text/x-python",
   "name": "python",
   "nbconvert_exporter": "python",
   "pygments_lexer": "ipython3",
   "version": "3.6.4"
  }
 },
 "nbformat": 4,
 "nbformat_minor": 2
}
