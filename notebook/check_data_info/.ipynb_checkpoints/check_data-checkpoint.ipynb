{
 "cells": [
  {
   "cell_type": "code",
   "execution_count": 1,
   "metadata": {},
   "outputs": [],
   "source": [
    "import pandas as pd"
   ]
  },
  {
   "cell_type": "code",
   "execution_count": 2,
   "metadata": {},
   "outputs": [
    {
     "name": "stdout",
     "output_type": "stream",
     "text": [
      "Origin Records: 392 Dim: 8\n",
      "New Records: 392 Dim: 8\n"
     ]
    }
   ],
   "source": [
    "origin = pd.read_csv(\"cars1.csv\")\n",
    "new = pd.read_csv(\"pmlb_all_data.csv\")\n",
    "print(\"Origin Records: {} Dim: {}\".format(len(origin), len(origin.columns)))\n",
    "print(\"New Records: {} Dim: {}\".format(len(origin), len(new.columns)))"
   ]
  },
  {
   "cell_type": "code",
   "execution_count": 4,
   "metadata": {},
   "outputs": [],
   "source": [
    "origin = origin.values\n",
    "new = new.values\n",
    "for row in origin:\n",
    "    find_flag = False\n",
    "    for row_2 in new:\n",
    "        if (row == row_2).all():\n",
    "            find_flag = True\n",
    "            break\n",
    "    if find_flag is False:\n",
    "        print(\"Cannot find:\\n{}\\n\".format(\"row\"))\n",
    "print(\"Done\")"
   ]
  },
  {
   "cell_type": "code",
   "execution_count": null,
   "metadata": {},
   "outputs": [],
   "source": []
  }
 ],
 "metadata": {
  "kernelspec": {
   "display_name": "Python 3",
   "language": "python",
   "name": "python3"
  },
  "language_info": {
   "codemirror_mode": {
    "name": "ipython",
    "version": 3
   },
   "file_extension": ".py",
   "mimetype": "text/x-python",
   "name": "python",
   "nbconvert_exporter": "python",
   "pygments_lexer": "ipython3",
   "version": "3.6.6"
  }
 },
 "nbformat": 4,
 "nbformat_minor": 2
}
