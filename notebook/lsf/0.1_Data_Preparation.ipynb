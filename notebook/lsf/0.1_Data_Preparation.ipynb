{
 "cells": [
  {
   "cell_type": "markdown",
   "metadata": {},
   "source": [
    "# 1. 加载数据"
   ]
  },
  {
   "cell_type": "code",
   "execution_count": 35,
   "metadata": {},
   "outputs": [
    {
     "name": "stdout",
     "output_type": "stream",
     "text": [
      "(25962995, 37)\n",
      "(25259007, 37)\n",
      "('data shape : ', (25259007, 37))\n",
      "('train_data_df shape: ', (1010360, 37))\n",
      "('test_data_df shape: ', (252591, 37))\n"
     ]
    }
   ],
   "source": [
    "import pandas as pd\n",
    "import matplotlib.pyplot as plt\n",
    "import seaborn as sns\n",
    "import numpy as np\n",
    "pd.set_option('display.max_columns',None)\n",
    "data_df = pd.read_csv('../data/mtk.parse.csv')\n",
    "#clean maxmem ==0 samples\n",
    "print(data_df.shape)\n",
    "data_df = data_df.loc[data_df.maxmem > 0]\n",
    "print(data_df.shape)\n",
    "#reorder the data according to the submitTime\n",
    "index = np.argsort(data_df.submitTime.values)\n",
    "subsample_index = index[::20]\n",
    "subsample_data = data_df.iloc[subsample_index]\n",
    "split_ratio = 0.8\n",
    "total_num_examples = subsample_data.shape[0]\n",
    "train_data_df = subsample_data.iloc[:int(split_ratio*total_num_examples)]\n",
    "test_data_df = subsample_data.iloc[int(split_ratio*total_num_examples):]\n",
    "train_data_df.to_csv('../data/mtk.parse.subsample.train.csv', index=False)\n",
    "test_data_df.to_csv('../data/mtk.parse.subsample.test.csv', index=False)\n",
    "print(\"data shape : \", data_df.shape)\n",
    "print(\"train_data_df shape: \", train_data_df.shape)\n",
    "print(\"test_data_df shape: \", test_data_df.shape)"
   ]
  }
 ],
 "metadata": {
  "kernelspec": {
   "display_name": "Python 2",
   "language": "python",
   "name": "python2"
  },
  "language_info": {
   "codemirror_mode": {
    "name": "ipython",
    "version": 2
   },
   "file_extension": ".py",
   "mimetype": "text/x-python",
   "name": "python",
   "nbconvert_exporter": "python",
   "pygments_lexer": "ipython2",
   "version": "2.7.12"
  }
 },
 "nbformat": 4,
 "nbformat_minor": 2
}
