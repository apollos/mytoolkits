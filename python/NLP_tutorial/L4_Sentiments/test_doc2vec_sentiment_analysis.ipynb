{
 "cells": [
  {
   "cell_type": "code",
   "execution_count": null,
   "metadata": {
    "collapsed": false
   },
   "outputs": [],
   "source": [
    "\"\"\"\n",
    "Created on Mon Apr 19 21:35:18 2017\n",
    "\n",
    "@author: raysun\n",
    "\n",
    "Source - https://radimrehurek.com/gensim/models/doc2vec.html\n",
    "         https://github.com/linanqiu/word2vec-sentiments\n",
    "         http://scikit-learn.org/stable/modules/linear_model.html#logistic-regression ...\n",
    "\"\"\"\n",
    "import gensim, logging\n",
    "logging.basicConfig(format='%(asctime)s : %(levelname)s : %(message)s', level=logging.INFO)\n",
    "\n",
    "# gensim modules\n",
    "from gensim import utils\n",
    "from gensim.models.doc2vec import TaggedDocument\n",
    "from gensim.models import Doc2Vec\n",
    "\n",
    "# random shuffle\n",
    "from random import shuffle\n",
    "\n",
    "# numpy\n",
    "import numpy\n",
    "\n",
    "# classifiers\n",
    "from sklearn.linear_model import LogisticRegression\n",
    "from sklearn.linear_model import SGDClassifier\n",
    "from sklearn.svm import LinearSVC\n"
   ]
  },
  {
   "cell_type": "code",
   "execution_count": null,
   "metadata": {
    "collapsed": true
   },
   "outputs": [],
   "source": [
    "# Step 1. Define a class to load data\n",
    "\n",
    "class TaggedLineSentence(object):\n",
    "    def __init__(self, sources):\n",
    "        self.sources = sources\n",
    "\n",
    "        flipped = {}\n",
    "\n",
    "        # make sure that keys are unique\n",
    "        for key, value in sources.items():\n",
    "            if value not in flipped:\n",
    "                flipped[value] = [key]\n",
    "            else:\n",
    "                raise Exception('Non-unique prefix encountered')\n",
    "\n",
    "    def __iter__(self):\n",
    "        for source, prefix in self.sources.items():\n",
    "            with utils.smart_open(source) as fin:\n",
    "                for item_no, line in enumerate(fin):\n",
    "                    yield TaggedDocument(utils.to_unicode(line).split(), [prefix + '_%s' % item_no])\n",
    "\n",
    "    def to_array(self):\n",
    "        self.sentences = []\n",
    "        for source, prefix in self.sources.items():\n",
    "            with utils.smart_open(source) as fin:\n",
    "                for item_no, line in enumerate(fin):\n",
    "                    self.sentences.append(TaggedDocument(utils.to_unicode(line).split(), [prefix + '_%s' % item_no]))\n",
    "        return self.sentences\n",
    "\n",
    "    def sentences_perm(self):\n",
    "        shuffle(self.sentences)\n",
    "        return self.sentences\n"
   ]
  },
  {
   "cell_type": "code",
   "execution_count": null,
   "metadata": {
    "collapsed": false
   },
   "outputs": [],
   "source": [
    "# Step 2. Load data. The result is to have five documents:\n",
    "# test-neg.txt: 12500 negative movie reviews from the test data\n",
    "# test-pos.txt: 12500 positive movie reviews from the test data\n",
    "# train-neg.txt: 12500 negative movie reviews from the training data\n",
    "# train-pos.txt: 12500 positive movie reviews from the training data\n",
    "# train-unsup.txt: 50000 Unlabelled movie reviews\n",
    "\n",
    "# Load input data\n",
    "sources = {'test-neg.txt':'TEST_NEG', 'test-pos.txt':'TEST_POS', 'train-neg.txt':'TRAIN_NEG', 'train-pos.txt':'TRAIN_POS', 'train-unsup.txt':'TRAIN_UNS'}\n",
    "sentences = TaggedLineSentence(sources)\n"
   ]
  },
  {
   "cell_type": "code",
   "execution_count": null,
   "metadata": {
    "collapsed": false
   },
   "outputs": [],
   "source": [
    "# Step 3. Build Doc2Vec model\n",
    "\n",
    "model = Doc2Vec(min_count=1, window=10, size=100, sample=1e-4, negative=5, workers=7)\n",
    "model.build_vocab(sentences.to_array())\n",
    "\n",
    "for epoch in range(10):\n",
    "    model.train(sentences.sentences_perm(),epochs=model.iter,total_examples=model.corpus_count)\n",
    "\n",
    "# Save the d2v model \n",
    "model.save('/tmp/d2v_imdb.model')\n",
    "\n",
    "# Load the saved d2v model\n",
    "model = Doc2Vec.load('/tmp/d2v_imdb.model')\n"
   ]
  },
  {
   "cell_type": "code",
   "execution_count": null,
   "metadata": {
    "collapsed": true
   },
   "outputs": [],
   "source": [
    "# Step 4. Perform similarity analysis\n",
    "\n",
    "# Check what words are similar to 'good'\n",
    "print model.most_similar('good')\n",
    "\n",
    "# Check what words are similar to 'bad'\n",
    "print model.most_similar('bad')\n",
    "\n",
    "# Inspect each of the vectors of the words and sentences in the model using model.syn0 \n",
    "# Here, we don't want to use the entire syn0 since that contains the vectors for the words \n",
    "# as well, but we are only interested in the ones for sentences.\n",
    "# Below is a sample vector for the first sentence in the training set for negative reviews:\n",
    "print model.docvecs['TRAIN_NEG_0']\n"
   ]
  },
  {
   "cell_type": "code",
   "execution_count": null,
   "metadata": {
    "collapsed": false
   },
   "outputs": [],
   "source": [
    "# Step 5. Create training data sets\n",
    "\n",
    "train_arrays = numpy.zeros((25000, 100))\n",
    "train_labels = numpy.zeros(25000)\n",
    "\n",
    "for i in range(12500):\n",
    "    prefix_train_pos = 'TRAIN_POS_' + str(i)\n",
    "    prefix_train_neg = 'TRAIN_NEG_' + str(i)\n",
    "    train_arrays[i] = model.docvecs[prefix_train_pos]\n",
    "    train_arrays[12500 + i] = model.docvecs[prefix_train_neg]\n",
    "    train_labels[i] = 1\n",
    "    train_labels[12500 + i] = 0\n",
    "\n",
    "print train_labels\n"
   ]
  },
  {
   "cell_type": "code",
   "execution_count": null,
   "metadata": {
    "collapsed": false
   },
   "outputs": [],
   "source": [
    "# Step 6. Create test data sets\n",
    "\n",
    "# initiate a matrix for test data and a vector for test label (observation or output)\n",
    "test_arrays = numpy.zeros((25000, 100))\n",
    "test_labels = numpy.zeros(25000)\n",
    "\n",
    "for i in range(12500):\n",
    "    prefix_test_pos = 'TEST_POS_' + str(i)\n",
    "    prefix_test_neg = 'TEST_NEG_' + str(i)\n",
    "    test_arrays[i] = model.docvecs[prefix_test_pos]\n",
    "    test_arrays[12500 + i] = model.docvecs[prefix_test_neg]\n",
    "    test_labels[i] = 1\n",
    "    test_labels[12500 + i] = 0\n",
    "    \n",
    "print test_labels\n"
   ]
  },
  {
   "cell_type": "code",
   "execution_count": null,
   "metadata": {
    "collapsed": false
   },
   "outputs": [],
   "source": [
    "# Step 7. Classify sentiments using classifiers from the scikit-learn package\n",
    "\n",
    "# Case 1: Logistic regression with L2 norm\n",
    "# Initialate classifier using the logistic regressor with default parameters\n",
    "classifier_1 = LogisticRegression()\n",
    "\n",
    "# Perform data fitting with the trained data\n",
    "classifier_1.fit(train_arrays, train_labels)\n",
    "\n",
    "# Run classifier using the logistic regressor with parameters to improve accuracy (L2 norm)\n",
    "LogisticRegression(C=1.0, class_weight=None, dual=False, fit_intercept=True,\n",
    "                   intercept_scaling=1, penalty='l2', random_state=None, tol=0.0001)\n",
    "\n",
    "# Compute prediction accuracy with the test data\n",
    "print classifier_1.score(test_arrays, test_labels)   \n",
    "\n",
    "# Case 2: Logistic regression with L1 norm\n",
    "# Initialate classifier using the logistic regressor with the default parameters\n",
    "classifier_2 = LogisticRegression()\n",
    "\n",
    "# Perform data fitting with the trained data\n",
    "classifier_2.fit(train_arrays, train_labels)\n",
    "\n",
    "# Initialate classifier using the logistic regressor with parameters to improve accuracy (L1 norm)\n",
    "LogisticRegression(C=1.0, class_weight=None, dual=False, fit_intercept=True,\n",
    "                   intercept_scaling=1, penalty='l1', random_state=None, tol=0.0001) \n",
    "\n",
    "# Compute prediction accuracy with the test data\n",
    "print classifier_2.score(test_arrays, test_labels)\n",
    "\n",
    "# Case 3 SGD classifier with L2 norm\n",
    "# Initialate classifier using the logistic regressor with the default parameters\n",
    "classifier_3 = SGDClassifier()\n",
    "\n",
    "# Perform data fitting with the trained data\n",
    "classifier_3.fit(train_arrays, train_labels)\n",
    "\n",
    "# Run classifier using the SGD classifier with parameters to improve accuracy (L2 norm)\n",
    "SGDClassifier(loss='hinge', penalty='l2', alpha=0.0001, l1_ratio=0.15, fit_intercept=True, n_iter=5, \n",
    "              shuffle=True, verbose=0, epsilon=0.1, n_jobs=1, random_state=None, learning_rate='optimal', \n",
    "              eta0=0.0, power_t=0.5, class_weight=None, warm_start=False, average=False)\n",
    "\n",
    "# Compute prediction accuracy with the test data\n",
    "print classifier_3.score(test_arrays, test_labels)\n",
    "\n",
    "# Case 4 Linear SVC classifier from SVM with L2 norm\n",
    "# Initialate classifier using the logistic regressor with the default parameters\n",
    "classifier_4 = LinearSVC()\n",
    "\n",
    "# Perform data fitting with the trained data\n",
    "classifier_4.fit(train_arrays, train_labels)\n",
    "\n",
    "# Run classifier using the linear SVC classifier with parameters to improve accuracy (L2 norm)\n",
    "LinearSVC(penalty='l2', loss='squared_hinge', dual=True, tol=0.0001, C=1.0, multi_class='ovr', \n",
    "          fit_intercept=True, intercept_scaling=1, class_weight=None, verbose=0, random_state=None, \n",
    "          max_iter=1000)\n",
    "\n",
    "# Compute prediction accuracy with the test data\n",
    "print classifier_4.score(test_arrays, test_labels)\n"
   ]
  }
 ],
 "metadata": {
  "kernelspec": {
   "display_name": "Python 2",
   "language": "python",
   "name": "python2"
  },
  "language_info": {
   "codemirror_mode": {
    "name": "ipython",
    "version": 2
   },
   "file_extension": ".py",
   "mimetype": "text/x-python",
   "name": "python",
   "nbconvert_exporter": "python",
   "pygments_lexer": "ipython2",
   "version": "2.7.13"
  }
 },
 "nbformat": 4,
 "nbformat_minor": 2
}
